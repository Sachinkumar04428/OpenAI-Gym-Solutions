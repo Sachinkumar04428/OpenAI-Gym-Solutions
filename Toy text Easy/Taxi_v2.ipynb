{
 "cells": [
  {
   "cell_type": "code",
   "execution_count": 0,
   "metadata": {
    "colab": {},
    "colab_type": "code",
    "id": "40i4xN2QhzWK"
   },
   "outputs": [],
   "source": [
    "import gym\n",
    "import numpy as np"
   ]
  },
  {
   "cell_type": "markdown",
   "metadata": {
    "colab_type": "text",
    "id": "4cBHnQIZjufP"
   },
   "source": [
    "### Loading the environment"
   ]
  },
  {
   "cell_type": "code",
   "execution_count": 0,
   "metadata": {
    "colab": {},
    "colab_type": "code",
    "id": "XdNg1iMa6tWf"
   },
   "outputs": [],
   "source": [
    "#Loading the envrionment\n",
    "env = gym.make('Taxi-v2')"
   ]
  },
  {
   "cell_type": "code",
   "execution_count": 0,
   "metadata": {
    "colab": {
     "base_uri": "https://localhost:8080/",
     "height": 52
    },
    "colab_type": "code",
    "id": "PI5Llh5n6wJj",
    "outputId": "0881605c-f2f0-4d06-aadd-589b3d2058e6"
   },
   "outputs": [
    {
     "name": "stdout",
     "output_type": "stream",
     "text": [
      "Discrete(6)\n",
      "Discrete(500)\n"
     ]
    }
   ],
   "source": [
    "print(env.action_space)\n",
    "print(env.observation_space)"
   ]
  },
  {
   "cell_type": "markdown",
   "metadata": {
    "colab_type": "text",
    "id": "rWxr8qJbkQRW"
   },
   "source": [
    "### Agent"
   ]
  },
  {
   "cell_type": "code",
   "execution_count": 2,
   "metadata": {
    "colab": {},
    "colab_type": "code",
    "id": "4GG6NrIfiBTm"
   },
   "outputs": [],
   "source": [
    "from collections import defaultdict\n",
    "import sys\n",
    "\n",
    "class Agent:\n",
    "\n",
    "    def __init__(self, env, alpha, gamma=1.0, eps_start=1.0, eps_decay=0.9999, eps_min=0.05):\n",
    "        self.env = env\n",
    "        self.eps_start = eps_start\n",
    "        self.gamma = gamma\n",
    "        self.alpha = alpha\n",
    "        self.eps_decay = eps_decay\n",
    "        self.eps_min = eps_min\n",
    "        self.nA = self.action_space.n\n",
    "\n",
    "    def action_from_eps_greedy_policy(self, state, Q, epsilon, nA):\n",
    "        '''\n",
    "            Chooses action with max Q-value with a probability of 1-epsilon (Exploitation)\n",
    "            or any other action with probability = epsilon/(nA-1) for each.\n",
    "            \n",
    "            sum of probabilities = (nA-1) * epsilon/(nA-1) + 1*(1-epsilon) = 1\n",
    "        '''\n",
    "        max_ = np.argmax(Q[state])\n",
    "        prob = self.get_prob(nA, epsilon, max_)\n",
    "        action = np.random.choice(np.arange(nA), p=prob)\n",
    "        return action\n",
    "\n",
    "    def get_prob(self, nA, epsilon, max_):\n",
    "        '''\n",
    "            returns probability distribution\n",
    "            with max index probability = 1-epsilon\n",
    "            and rest indices set to probability = epsilon\n",
    "        '''\n",
    "        prob = np.ones(nA)*epsilon/(nA-1)\n",
    "        prob[max_] = 1 - epsilon\n",
    "        return prob\n",
    "    \n",
    "\n",
    "    def interact(self, num_episodes):\n",
    "        '''\n",
    "            interact with the environment and learn\n",
    "        '''\n",
    "        Q = defaultdict( lambda: np.zeros(self.nA))\n",
    "        epsilon = self.eps_start\n",
    "        eps_decay = self.eps_decay  #decay rate of epsilon\n",
    "        eps_min = self.eps_min       #min epsilon value, not allowing to go very low, to maintain exploration\n",
    "        # loop over episodes\n",
    "        for i_episode in range(1, num_episodes+1):\n",
    "            # monitor progress\n",
    "            if i_episode % 100 == 0:\n",
    "                print(\"\\rEpisode {}/{}\".format(i_episode, num_episodes), end=\"\")\n",
    "                sys.stdout.flush() \n",
    "            #calculating epsilon\n",
    "            epsilon = max(epsilon*eps_decay, eps_min)\n",
    "            #observing state s0 and taking action\n",
    "            state_prev = self.env.reset()\n",
    "            action_prev = self.action_from_eps_greedy_policy(state_prev, Q, epsilon, self.nA)\n",
    "            #loop over SARSA\n",
    "            while True:\n",
    "                state, reward, done, info = self.env.step(action_prev)\n",
    "                Q[state_prev][action_prev] += self.alpha*(reward + self.gamma*np.max(Q[state]) - Q[state_prev][action_prev])\n",
    "                if done:\n",
    "                    break\n",
    "                #update state and action\n",
    "                state_prev = state\n",
    "                action_prev = self.action_from_eps_greedy_policy(state, Q, epsilon, self.nA)\n",
    "\n",
    "        self.Q = Q\n",
    "        self.policy = self.get_Policy(Q)\n",
    "\n",
    "    def get_Policy(self, Q):\n",
    "        '''\n",
    "            returns optimal policy using the Q-table\n",
    "        '''\n",
    "        policy = defaultdict(lambda: 0)\n",
    "        for state, action in Q.items():\n",
    "            policy[state] = np.argmax(action)\n",
    "        return policy\n",
    "    \n",
    "    def take_action(self,state):\n",
    "        '''\n",
    "            take action as per policy\n",
    "        '''\n",
    "        return self.policy[state]\n",
    "\n",
    "    def save(self):\n",
    "        try:\n",
    "            data = pd.DataFrame(self.Q)\n",
    "            data.to_csv('Q.csv')\n",
    "        except :\n",
    "            pass"
   ]
  },
  {
   "cell_type": "markdown",
   "metadata": {
    "colab_type": "text",
    "id": "acWWdHhDjx2_"
   },
   "source": [
    "### Training the Agent"
   ]
  },
  {
   "cell_type": "code",
   "execution_count": 7,
   "metadata": {
    "colab": {
     "base_uri": "https://localhost:8080/",
     "height": 1545
    },
    "colab_type": "code",
    "id": "sj4RXLVDiLkw",
    "outputId": "afe0ae4a-a395-40b9-fdcd-3dafefdf25c7"
   },
   "outputs": [
    {
     "name": "stdout",
     "output_type": "stream",
     "text": [
      "Episode 20000/20000+---------+\n",
      "|\u001b[34;1mR\u001b[0m: | : :G|\n",
      "| : : : :\u001b[43m \u001b[0m|\n",
      "| : : : : |\n",
      "| | : | : |\n",
      "|\u001b[35mY\u001b[0m| : |B: |\n",
      "+---------+\n",
      "\n",
      "+---------+\n",
      "|\u001b[34;1mR\u001b[0m: | : :G|\n",
      "| : : :\u001b[43m \u001b[0m: |\n",
      "| : : : : |\n",
      "| | : | : |\n",
      "|\u001b[35mY\u001b[0m| : |B: |\n",
      "+---------+\n",
      "  (West)\n",
      "+---------+\n",
      "|\u001b[34;1mR\u001b[0m: | : :G|\n",
      "| : :\u001b[43m \u001b[0m: : |\n",
      "| : : : : |\n",
      "| | : | : |\n",
      "|\u001b[35mY\u001b[0m| : |B: |\n",
      "+---------+\n",
      "  (West)\n",
      "+---------+\n",
      "|\u001b[34;1mR\u001b[0m: | : :G|\n",
      "| :\u001b[43m \u001b[0m: : : |\n",
      "| : : : : |\n",
      "| | : | : |\n",
      "|\u001b[35mY\u001b[0m| : |B: |\n",
      "+---------+\n",
      "  (West)\n",
      "+---------+\n",
      "|\u001b[34;1mR\u001b[0m: | : :G|\n",
      "|\u001b[43m \u001b[0m: : : : |\n",
      "| : : : : |\n",
      "| | : | : |\n",
      "|\u001b[35mY\u001b[0m| : |B: |\n",
      "+---------+\n",
      "  (West)\n",
      "+---------+\n",
      "|\u001b[34;1m\u001b[43mR\u001b[0m\u001b[0m: | : :G|\n",
      "| : : : : |\n",
      "| : : : : |\n",
      "| | : | : |\n",
      "|\u001b[35mY\u001b[0m| : |B: |\n",
      "+---------+\n",
      "  (North)\n",
      "+---------+\n",
      "|\u001b[42mR\u001b[0m: | : :G|\n",
      "| : : : : |\n",
      "| : : : : |\n",
      "| | : | : |\n",
      "|\u001b[35mY\u001b[0m| : |B: |\n",
      "+---------+\n",
      "  (Pickup)\n",
      "+---------+\n",
      "|R: | : :G|\n",
      "|\u001b[42m_\u001b[0m: : : : |\n",
      "| : : : : |\n",
      "| | : | : |\n",
      "|\u001b[35mY\u001b[0m| : |B: |\n",
      "+---------+\n",
      "  (South)\n",
      "+---------+\n",
      "|R: | : :G|\n",
      "| : : : : |\n",
      "|\u001b[42m_\u001b[0m: : : : |\n",
      "| | : | : |\n",
      "|\u001b[35mY\u001b[0m| : |B: |\n",
      "+---------+\n",
      "  (South)\n",
      "+---------+\n",
      "|R: | : :G|\n",
      "| : : : : |\n",
      "| : : : : |\n",
      "|\u001b[42m_\u001b[0m| : | : |\n",
      "|\u001b[35mY\u001b[0m| : |B: |\n",
      "+---------+\n",
      "  (South)\n",
      "+---------+\n",
      "|R: | : :G|\n",
      "| : : : : |\n",
      "| : : : : |\n",
      "| | : | : |\n",
      "|\u001b[35m\u001b[42mY\u001b[0m\u001b[0m| : |B: |\n",
      "+---------+\n",
      "  (South)\n"
     ]
    }
   ],
   "source": [
    "#creating the environment\n",
    "env = gym.make('Taxi-v2')\n",
    "\n",
    "#initialising agent\n",
    "agent = Agent(env = env,\n",
    "              alpha = 0.1 )\n",
    "\n",
    "#training the agent via interaction\n",
    "agent.interact(num_episodes=20000)\n",
    "\n",
    "#testing the agent\n",
    "state = env.reset()\n",
    "while True:\n",
    "    #rendering the environment\n",
    "    env.render()\n",
    "    #decide action for present state\n",
    "    action = agent.take_action(state)\n",
    "    state, reward, done, info = env.step(action)\n",
    "    if done:\n",
    "        break \n",
    "\n",
    "#if required save the Q_table for further use\n",
    "#agent.save()\n",
    "env.close()"
   ]
  },
  {
   "cell_type": "markdown",
   "metadata": {
    "colab_type": "text",
    "id": "75DM9pDEoGKH"
   },
   "source": [
    "Since Github doesn't render agent's actions properly. You can visit [NbViewer](https://nbviewer.jupyter.org/github/Sachinkumar04428/OpenAI-Gym-Solutions/blob/master/Toy%20text%20Easy/Taxi_v2.ipynb) to view it properly."
   ]
  },
  {
   "cell_type": "markdown",
   "metadata": {
    "colab_type": "text",
    "id": "IqSSCoPBEfUz"
   },
   "source": [
    "## Testing the agent"
   ]
  },
  {
   "cell_type": "code",
   "execution_count": 9,
   "metadata": {
    "colab": {
     "base_uri": "https://localhost:8080/",
     "height": 34
    },
    "colab_type": "code",
    "id": "lazq1J5ODSTt",
    "outputId": "24c22ef4-1191-4d2a-bfc6-92776200530a"
   },
   "outputs": [
    {
     "name": "stdout",
     "output_type": "stream",
     "text": [
      "Average reward over 100 episodes= 8.45\n"
     ]
    }
   ],
   "source": [
    "num_episodes = 100\n",
    "total_reward = 0\n",
    "for i_episode in range(num_episodes):\n",
    "    state = env.reset()\n",
    "    while True:\n",
    "        #env.render()\n",
    "        action = agent.take_action(state)        #choose an action from the polic\n",
    "        state, reward, done, info = env.step(action)   #perform chosen action to get next_state and reward\n",
    "        total_reward += reward\n",
    "        if done:\n",
    "            break\n",
    "\n",
    "print(f'Average reward over {num_episodes} episodes=',total_reward/num_episodes)"
   ]
  },
  {
   "cell_type": "markdown",
   "metadata": {
    "colab_type": "text",
    "id": "aVZkT68OGGUt"
   },
   "source": [
    "The top average scores on the [Leaderboard](https://github.com/openai/gym/wiki/Leaderboard) are from 9.23 to 9.716."
   ]
  }
 ],
 "metadata": {
  "accelerator": "GPU",
  "colab": {
   "name": "Taxi-v2.ipynb",
   "provenance": [],
   "version": "0.3.2"
  },
  "kernelspec": {
   "display_name": "Python 3",
   "language": "python",
   "name": "python3"
  },
  "language_info": {
   "codemirror_mode": {
    "name": "ipython",
    "version": 3
   },
   "file_extension": ".py",
   "mimetype": "text/x-python",
   "name": "python",
   "nbconvert_exporter": "python",
   "pygments_lexer": "ipython3",
   "version": "3.7.3"
  }
 },
 "nbformat": 4,
 "nbformat_minor": 1
}
