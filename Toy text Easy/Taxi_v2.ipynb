{
  "nbformat": 4,
  "nbformat_minor": 0,
  "metadata": {
    "colab": {
      "name": "Taxi-v2.ipynb",
      "version": "0.3.2",
      "provenance": []
    },
    "kernelspec": {
      "name": "python3",
      "display_name": "Python 3"
    },
    "accelerator": "GPU"
  },
  "cells": [
    {
      "cell_type": "code",
      "metadata": {
        "id": "40i4xN2QhzWK",
        "colab_type": "code",
        "colab": {}
      },
      "source": [
        "import gym\n",
        "import numpy as np"
      ],
      "execution_count": 0,
      "outputs": []
    },
    {
      "cell_type": "markdown",
      "metadata": {
        "id": "4cBHnQIZjufP",
        "colab_type": "text"
      },
      "source": [
        "### Loading the environment"
      ]
    },
    {
      "cell_type": "code",
      "metadata": {
        "id": "XdNg1iMa6tWf",
        "colab_type": "code",
        "colab": {}
      },
      "source": [
        "#Loading the envrionment\n",
        "env = gym.make('Taxi-v2')"
      ],
      "execution_count": 0,
      "outputs": []
    },
    {
      "cell_type": "code",
      "metadata": {
        "id": "PI5Llh5n6wJj",
        "colab_type": "code",
        "outputId": "0881605c-f2f0-4d06-aadd-589b3d2058e6",
        "colab": {
          "base_uri": "https://localhost:8080/",
          "height": 52
        }
      },
      "source": [
        "print(env.action_space)\n",
        "print(env.observation_space)"
      ],
      "execution_count": 0,
      "outputs": [
        {
          "output_type": "stream",
          "text": [
            "Discrete(6)\n",
            "Discrete(500)\n"
          ],
          "name": "stdout"
        }
      ]
    },
    {
      "cell_type": "markdown",
      "metadata": {
        "id": "rWxr8qJbkQRW",
        "colab_type": "text"
      },
      "source": [
        "### Agent"
      ]
    },
    {
      "cell_type": "code",
      "metadata": {
        "id": "4GG6NrIfiBTm",
        "colab_type": "code",
        "colab": {}
      },
      "source": [
        "from collections import defaultdict\n",
        "import sys\n",
        "\n",
        "class Agent:\n",
        "\n",
        "\tdef __init__(self, env, alpha, gamma=1.0, eps_start=1.0, eps_decay=0.9999, eps_min=0.05):\n",
        "\t\tself.env = env\n",
        "\t\tself.eps_start = eps_start\n",
        "\t\tself.gamma = gamma\n",
        "\t\tself.alpha = alpha\n",
        "\t\tself.nA = env.action_space.n\n",
        "        self.eps_decay = 0.9999\n",
        "        self.eps_min = 0.05\n",
        "\n",
        "\tdef action_from_eps_greedy_policy(self, state, Q, epsilon, nA):\n",
        "        '''\n",
        "            Chooses action with max Q-value with a probability of 1-epsilon (Exploitation)\n",
        "            or any other action with probability = epsilon/(nA-1) for each.\n",
        "            \n",
        "            sum of probabilities = (nA-1) * epsilon/(nA-1) + 1*(1-epsilon) = 1\n",
        "        '''\n",
        "\t    max_ = np.argmax(Q[state])\n",
        "\t    prob = self.get_prob(nA, epsilon, max_)\n",
        "\t    action = np.random.choice(np.arange(nA), p=prob)\n",
        "\t    return action\n",
        "\n",
        "\tdef get_prob(self, nA, epsilon, max_):\n",
        "\t\t'''\n",
        "            returns probability distribution\n",
        "            with max index probability = 1-epsilon\n",
        "            and rest indices set to probability = epsilon\n",
        "        '''\n",
        "\t\tprob = np.ones(nA)*epsilon/(nA-1)\n",
        "\t\tprob[max_] = 1 - epsilon\n",
        "\t\treturn prob\n",
        "    \n",
        "\n",
        "\tdef interact(self, num_episodes):\n",
        "        '''\n",
        "            interact with the environment and learn\n",
        "        '''\n",
        "\t\tQ = defaultdict( lambda: np.zeros(self.nA))\n",
        "\t\tepsilon = self.eps_start\n",
        "\t\teps_decay = self.eps_decay  #decay rate of epsilon\n",
        "\t\teps_min = self.eps_min       #min epsilon value, not allowing to go very low, to maintain exploration\n",
        "\t\t# loop over episodes\n",
        "\t\tfor i_episode in range(1, num_episodes+1):\n",
        "\t\t\t# monitor progress\n",
        "\t\t\tif i_episode % 100 == 0:\n",
        "\t\t\t\tprint(\"\\rEpisode {}/{}\".format(i_episode, num_episodes), end=\"\")\n",
        "\t\t\t\tsys.stdout.flush() \n",
        "\t\t\t#calculating epsilon\n",
        "\t\t\tepsilon = max(epsilon*eps_decay, eps_min)\n",
        "\t\t\t#observing state s0 and taking action\n",
        "\t\t\tstate_prev = self.env.reset()\n",
        "\t\t\taction_prev = self.action_from_eps_greedy_policy(state_prev, Q, epsilon, self.nA)\n",
        "\t\t\t#loop over SARSA\n",
        "\t\t\twhile True:\n",
        "\t\t\t\tstate, reward, done, info = self.env.step(action_prev)\n",
        "\t\t\t\tQ[state_prev][action_prev] += self.alpha*(reward + self.gamma*np.max(Q[state]) - Q[state_prev][action_prev])\n",
        "\t\t\t\tif done:\n",
        "\t\t\t\t\tbreak\n",
        "\t\t\t\t#update state and action\n",
        "\t\t\t\tstate_prev = state\n",
        "\t\t\t\taction_prev = self.action_from_eps_greedy_policy(state, Q, epsilon, self.nA)\n",
        "\n",
        "\t\tself.Q = Q\n",
        "\t\tself.policy = self.get_Policy(Q)\n",
        "\t\t\n",
        "\tdef get_Policy(self, Q):\n",
        "        '''\n",
        "            returns optimal policy using the Q-table\n",
        "        '''\n",
        "\t\tpolicy = defaultdict(lambda: 0)\n",
        "\t\tfor state, action in Q.items():\n",
        "\t\t    policy[state] = np.argmax(action)\n",
        "\t\treturn policy\n",
        "    \n",
        "\tdef take_action(self,state):\n",
        "        '''\n",
        "            take action as per policy\n",
        "        '''\n",
        "\t\treturn self.policy[state]\n",
        "        \n",
        "\tdef save(self):\n",
        "\t\ttry:\n",
        "\t\t    data = pd.DataFrame(self.Q)\n",
        "\t\t    data.to_csv('Q.csv')\n",
        "\t\texcept :\n",
        "\t\t    pass"
      ],
      "execution_count": 0,
      "outputs": []
    },
    {
      "cell_type": "markdown",
      "metadata": {
        "id": "acWWdHhDjx2_",
        "colab_type": "text"
      },
      "source": [
        "### Training the Agent"
      ]
    },
    {
      "cell_type": "code",
      "metadata": {
        "id": "sj4RXLVDiLkw",
        "colab_type": "code",
        "colab": {
          "base_uri": "https://localhost:8080/",
          "height": 1545
        },
        "outputId": "afe0ae4a-a395-40b9-fdcd-3dafefdf25c7"
      },
      "source": [
        "#creating the environment\n",
        "env = gym.make('Taxi-v2')\n",
        "\n",
        "#initialising agent\n",
        "agent = Agent(env = env,\n",
        "              alpha = 0.1 )\n",
        "\n",
        "#training the agent via interaction\n",
        "agent.interact(num_episodes=20000)\n",
        "\n",
        "#testing the agent\n",
        "state = env.reset()\n",
        "while True:\n",
        "    #rendering the environment\n",
        "    env.render()\n",
        "    #decide action for present state\n",
        "    action = agent.take_action(state)\n",
        "    state, reward, done, info = env.step(action)\n",
        "    if done:\n",
        "        break \n",
        "\n",
        "#if required save the Q_table for further use\n",
        "#agent.save()\n",
        "env.close()"
      ],
      "execution_count": 7,
      "outputs": [
        {
          "output_type": "stream",
          "text": [
            "Episode 20000/20000+---------+\n",
            "|\u001b[34;1mR\u001b[0m: | : :G|\n",
            "| : : : :\u001b[43m \u001b[0m|\n",
            "| : : : : |\n",
            "| | : | : |\n",
            "|\u001b[35mY\u001b[0m| : |B: |\n",
            "+---------+\n",
            "\n",
            "+---------+\n",
            "|\u001b[34;1mR\u001b[0m: | : :G|\n",
            "| : : :\u001b[43m \u001b[0m: |\n",
            "| : : : : |\n",
            "| | : | : |\n",
            "|\u001b[35mY\u001b[0m| : |B: |\n",
            "+---------+\n",
            "  (West)\n",
            "+---------+\n",
            "|\u001b[34;1mR\u001b[0m: | : :G|\n",
            "| : :\u001b[43m \u001b[0m: : |\n",
            "| : : : : |\n",
            "| | : | : |\n",
            "|\u001b[35mY\u001b[0m| : |B: |\n",
            "+---------+\n",
            "  (West)\n",
            "+---------+\n",
            "|\u001b[34;1mR\u001b[0m: | : :G|\n",
            "| :\u001b[43m \u001b[0m: : : |\n",
            "| : : : : |\n",
            "| | : | : |\n",
            "|\u001b[35mY\u001b[0m| : |B: |\n",
            "+---------+\n",
            "  (West)\n",
            "+---------+\n",
            "|\u001b[34;1mR\u001b[0m: | : :G|\n",
            "|\u001b[43m \u001b[0m: : : : |\n",
            "| : : : : |\n",
            "| | : | : |\n",
            "|\u001b[35mY\u001b[0m| : |B: |\n",
            "+---------+\n",
            "  (West)\n",
            "+---------+\n",
            "|\u001b[34;1m\u001b[43mR\u001b[0m\u001b[0m: | : :G|\n",
            "| : : : : |\n",
            "| : : : : |\n",
            "| | : | : |\n",
            "|\u001b[35mY\u001b[0m| : |B: |\n",
            "+---------+\n",
            "  (North)\n",
            "+---------+\n",
            "|\u001b[42mR\u001b[0m: | : :G|\n",
            "| : : : : |\n",
            "| : : : : |\n",
            "| | : | : |\n",
            "|\u001b[35mY\u001b[0m| : |B: |\n",
            "+---------+\n",
            "  (Pickup)\n",
            "+---------+\n",
            "|R: | : :G|\n",
            "|\u001b[42m_\u001b[0m: : : : |\n",
            "| : : : : |\n",
            "| | : | : |\n",
            "|\u001b[35mY\u001b[0m| : |B: |\n",
            "+---------+\n",
            "  (South)\n",
            "+---------+\n",
            "|R: | : :G|\n",
            "| : : : : |\n",
            "|\u001b[42m_\u001b[0m: : : : |\n",
            "| | : | : |\n",
            "|\u001b[35mY\u001b[0m| : |B: |\n",
            "+---------+\n",
            "  (South)\n",
            "+---------+\n",
            "|R: | : :G|\n",
            "| : : : : |\n",
            "| : : : : |\n",
            "|\u001b[42m_\u001b[0m| : | : |\n",
            "|\u001b[35mY\u001b[0m| : |B: |\n",
            "+---------+\n",
            "  (South)\n",
            "+---------+\n",
            "|R: | : :G|\n",
            "| : : : : |\n",
            "| : : : : |\n",
            "| | : | : |\n",
            "|\u001b[35m\u001b[42mY\u001b[0m\u001b[0m| : |B: |\n",
            "+---------+\n",
            "  (South)\n"
          ],
          "name": "stdout"
        }
      ]
    },
    {
      "cell_type": "markdown",
      "metadata": {
        "id": "IqSSCoPBEfUz",
        "colab_type": "text"
      },
      "source": [
        "## Testing the agent"
      ]
    },
    {
      "cell_type": "code",
      "metadata": {
        "id": "lazq1J5ODSTt",
        "colab_type": "code",
        "outputId": "24c22ef4-1191-4d2a-bfc6-92776200530a",
        "colab": {
          "base_uri": "https://localhost:8080/",
          "height": 34
        }
      },
      "source": [
        "num_episodes = 100\n",
        "total_reward = 0\n",
        "for i_episode in range(num_episodes):\n",
        "    state = env.reset()\n",
        "    while True:\n",
        "        #env.render()\n",
        "        action = agent.take_action(state)        #choose an action from the polic\n",
        "        state, reward, done, info = env.step(action)   #perform chosen action to get next_state and reward\n",
        "        total_reward += reward\n",
        "        if done:\n",
        "            break\n",
        "\n",
        "print(f'Average reward over {num_episodes} episodes=',total_reward/num_episodes)"
      ],
      "execution_count": 9,
      "outputs": [
        {
          "output_type": "stream",
          "text": [
            "Average reward over 100 episodes= 8.45\n"
          ],
          "name": "stdout"
        }
      ]
    },
    {
      "cell_type": "markdown",
      "metadata": {
        "id": "aVZkT68OGGUt",
        "colab_type": "text"
      },
      "source": [
        "The top average scores on the [Leaderboard] (https://github.com/openai/gym/wiki/Leaderboard) are from 9.23 to 9.716."
      ]
    }
  ]
}