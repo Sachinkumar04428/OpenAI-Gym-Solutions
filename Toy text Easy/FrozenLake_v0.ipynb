{
  "nbformat": 4,
  "nbformat_minor": 0,
  "metadata": {
    "colab": {
      "name": "FrozenLake-v0.ipynb",
      "version": "0.3.2",
      "provenance": [],
      "toc_visible": true
    },
    "kernelspec": {
      "name": "python3",
      "display_name": "Python 3"
    }
  },
  "cells": [
    {
      "cell_type": "markdown",
      "metadata": {
        "id": "uFdL7Vbd6n8-",
        "colab_type": "text"
      },
      "source": [
        "## FrozenLake-v0"
      ]
    },
    {
      "cell_type": "code",
      "metadata": {
        "id": "cHOUmDJF6UNj",
        "colab_type": "code",
        "colab": {}
      },
      "source": [
        "import gym\n",
        "import numpy as np\n",
        "import sys\n",
        "from collections import defaultdict"
      ],
      "execution_count": 0,
      "outputs": []
    },
    {
      "cell_type": "code",
      "metadata": {
        "id": "XdNg1iMa6tWf",
        "colab_type": "code",
        "colab": {}
      },
      "source": [
        "#Loading the envrionment\n",
        "\n",
        "env = gym.make('FrozenLake-v0')"
      ],
      "execution_count": 0,
      "outputs": []
    },
    {
      "cell_type": "code",
      "metadata": {
        "id": "PI5Llh5n6wJj",
        "colab_type": "code",
        "colab": {
          "base_uri": "https://localhost:8080/",
          "height": 52
        },
        "outputId": "5223b535-304d-42f7-90fa-e705ab12b29c"
      },
      "source": [
        "print(env.action_space)\n",
        "print(env.observation_space)"
      ],
      "execution_count": 3,
      "outputs": [
        {
          "output_type": "stream",
          "text": [
            "Discrete(4)\n",
            "Discrete(16)\n"
          ],
          "name": "stdout"
        }
      ]
    },
    {
      "cell_type": "markdown",
      "metadata": {
        "id": "3_dQQF1S6_zh",
        "colab_type": "text"
      },
      "source": [
        "## MDP\n",
        "\n",
        "So, the above environment is a ***finite Markov Decision Process***, with\n",
        "- a finite set of states  (in this case 16)\n",
        "- a finite set of actions (in this case 4)\n",
        "- a finite set of Rewards (in this case 1 if you reach the goal, 0 otherwise)\n",
        "- one-step dynamics of the environment (basically the fact that the environment changes from one state to the next one by an action taken by our agent)\n",
        "- a discount rate  $\\gamma\\   \\epsilon [0,1]$ (a higher gamma corresponds to higher priority of the agent to attain future rewards along with present one)\n",
        "\n",
        "## Q-Learning\n",
        "\n",
        "It is an RL algorithm which tries to find the optimal policy for the MDP at hand. It does this by making an ***action-value table***  - a table which has for every state and action, a corresponding value which is the sum of all rewards the agent would get if it takes the specific action for the specific state and follows the policy from thereafter. "
      ]
    },
    {
      "cell_type": "code",
      "metadata": {
        "id": "6JGZm20m66qX",
        "colab_type": "code",
        "colab": {}
      },
      "source": [
        "def action_from_eps_greedy_policy(state, Q, epsilon, nA):\n",
        "    #greedy action\n",
        "    max_ = np.argmax(Q[state])\n",
        "    prob = get_prob(nA, epsilon, max_)\n",
        "    #choosing a random action with probabilities (1 - epsilon) for action having max Q-value\n",
        "    #and epsilon for all other actions\n",
        "    #thus giving agent to both exploit it's knowledge and explore the environment\n",
        "    action = np.random.choice(np.arange(nA), p=prob)\n",
        "    return action\n",
        "\n",
        "def get_prob(nA, epsilon, max_):\n",
        "    #initial probablities\n",
        "    prob = np.ones(nA)*epsilon/(nA-1)\n",
        "    prob[max_] = 1 - epsilon\n",
        "    return prob\n",
        "    \n",
        "def q_learning(env, num_episodes, alpha, nActions, gamma=1.0, eps_start=1, eps_decay=0.9999, eps_min=0.05):\n",
        "    # initialize action-value function (empty dictionary of numpy arrays)\n",
        "    Q = defaultdict(lambda: np.ones(nActions))\n",
        "    epsilon = eps_start\n",
        "    # loop over episodes\n",
        "    for i_episode in range(1, num_episodes+1):\n",
        "        # monitor progress\n",
        "        if i_episode % 100 == 0:\n",
        "            print(\"\\rEpisode {}/{}\".format(i_episode, num_episodes), end=\"\")\n",
        "            sys.stdout.flush()   \n",
        "        #decaying epsilon\n",
        "        epsilon = max(epsilon*eps_decay, eps_min)\n",
        "        #observing state s0 and taking action\n",
        "        state_prev = env.reset()\n",
        "        action_prev = action_from_eps_greedy_policy(state_prev, Q, epsilon, nActions)\n",
        "        #loop over SARSA\n",
        "        while True:\n",
        "            state, reward, done, info = env.step(action_prev)\n",
        "            Q[state_prev][action_prev] += alpha*(reward + gamma*np.max(Q[state]) - Q[state_prev][action_prev])\n",
        "            if done:\n",
        "                break\n",
        "            #update state and action\n",
        "            state_prev = state\n",
        "            action_prev = action_from_eps_greedy_policy(state, Q, epsilon, nActions)\n",
        "        \n",
        "    return Q"
      ],
      "execution_count": 0,
      "outputs": []
    },
    {
      "cell_type": "markdown",
      "metadata": {
        "id": "D-5w0ZOHAw_R",
        "colab_type": "text"
      },
      "source": [
        "## Training the agent"
      ]
    },
    {
      "cell_type": "code",
      "metadata": {
        "id": "fMtBx4FIAmJb",
        "colab_type": "code",
        "colab": {
          "base_uri": "https://localhost:8080/",
          "height": 34
        },
        "outputId": "4c796313-bb11-4237-dad6-56a1fd931e16"
      },
      "source": [
        "Q_table = q_learning(env, num_episodes=30000, alpha=0.01, nActions=4)"
      ],
      "execution_count": 38,
      "outputs": [
        {
          "output_type": "stream",
          "text": [
            "Episode 30000/30000"
          ],
          "name": "stdout"
        }
      ]
    },
    {
      "cell_type": "code",
      "metadata": {
        "id": "Ni0N6qDhCV9d",
        "colab_type": "code",
        "colab": {}
      },
      "source": [
        "def get_Policy(Q_table):\n",
        "    nActions = Q_table[0].shape[0]\n",
        "    #initialising the policy\n",
        "    policy = defaultdict(lambda: -1)\n",
        "    for state,action in Q_table.items():\n",
        "        #choosing the action with highes Q-value\n",
        "        policy[state] = np.argmax(action)\n",
        "    return policy"
      ],
      "execution_count": 0,
      "outputs": []
    },
    {
      "cell_type": "code",
      "metadata": {
        "id": "YvvNecf9D1Zm",
        "colab_type": "code",
        "colab": {}
      },
      "source": [
        "policy = get_Policy(Q_table)"
      ],
      "execution_count": 0,
      "outputs": []
    },
    {
      "cell_type": "markdown",
      "metadata": {
        "id": "IqSSCoPBEfUz",
        "colab_type": "text"
      },
      "source": [
        "## Testing the agent"
      ]
    },
    {
      "cell_type": "code",
      "metadata": {
        "id": "lazq1J5ODSTt",
        "colab_type": "code",
        "colab": {
          "base_uri": "https://localhost:8080/",
          "height": 34
        },
        "outputId": "654fc5da-ce29-4170-a433-9814d1e3ad5c"
      },
      "source": [
        "num_episodes = 100\n",
        "total_reward = 0\n",
        "for i_episode in range(num_episodes):\n",
        "    state = env.reset()\n",
        "    while True:\n",
        "        #env.render()\n",
        "        action = policy[state]        #choose an action from the policy\n",
        "        state, reward, done, info = env.step(action)   #perform chosen action to get next_state and reward\n",
        "        total_reward += reward\n",
        "        if done:\n",
        "            break\n",
        "\n",
        "print('Average reward =',total_reward/num_episodes)"
      ],
      "execution_count": 31,
      "outputs": [
        {
          "output_type": "stream",
          "text": [
            "Average reward = 0.75\n"
          ],
          "name": "stdout"
        }
      ]
    },
    {
      "cell_type": "markdown",
      "metadata": {
        "id": "aVZkT68OGGUt",
        "colab_type": "text"
      },
      "source": [
        "So the agent reaches the goal in 75 of 100 episodes. Since the environment has random reactions, that is the ice on which agent is walking is slippery, this is acceptable.\n",
        "\n",
        "Let's see it in action for one episode by printing every state and action."
      ]
    },
    {
      "cell_type": "code",
      "metadata": {
        "id": "kOWxNGK9Gomy",
        "colab_type": "code",
        "colab": {
          "base_uri": "https://localhost:8080/",
          "height": 5574
        },
        "outputId": "cbd295d0-418d-4d1c-edef-344bfe7c03ac"
      },
      "source": [
        "state = env.reset()\n",
        "while True:\n",
        "        env.render()\n",
        "        action = policy[state]        #choose an action from the policy\n",
        "        state, reward, done, info = env.step(action)   #perform chosen action to get next_state and reward\n",
        "        if done:\n",
        "            break"
      ],
      "execution_count": 33,
      "outputs": [
        {
          "output_type": "stream",
          "text": [
            "\n",
            "\u001b[41mS\u001b[0mFFF\n",
            "FHFH\n",
            "FFFH\n",
            "HFFG\n",
            "  (Left)\n",
            "\u001b[41mS\u001b[0mFFF\n",
            "FHFH\n",
            "FFFH\n",
            "HFFG\n",
            "  (Left)\n",
            "\u001b[41mS\u001b[0mFFF\n",
            "FHFH\n",
            "FFFH\n",
            "HFFG\n",
            "  (Left)\n",
            "\u001b[41mS\u001b[0mFFF\n",
            "FHFH\n",
            "FFFH\n",
            "HFFG\n",
            "  (Left)\n",
            "\u001b[41mS\u001b[0mFFF\n",
            "FHFH\n",
            "FFFH\n",
            "HFFG\n",
            "  (Left)\n",
            "SFFF\n",
            "\u001b[41mF\u001b[0mHFH\n",
            "FFFH\n",
            "HFFG\n",
            "  (Left)\n",
            "\u001b[41mS\u001b[0mFFF\n",
            "FHFH\n",
            "FFFH\n",
            "HFFG\n",
            "  (Left)\n",
            "SFFF\n",
            "\u001b[41mF\u001b[0mHFH\n",
            "FFFH\n",
            "HFFG\n",
            "  (Left)\n",
            "\u001b[41mS\u001b[0mFFF\n",
            "FHFH\n",
            "FFFH\n",
            "HFFG\n",
            "  (Left)\n",
            "\u001b[41mS\u001b[0mFFF\n",
            "FHFH\n",
            "FFFH\n",
            "HFFG\n",
            "  (Left)\n",
            "\u001b[41mS\u001b[0mFFF\n",
            "FHFH\n",
            "FFFH\n",
            "HFFG\n",
            "  (Left)\n",
            "SFFF\n",
            "\u001b[41mF\u001b[0mHFH\n",
            "FFFH\n",
            "HFFG\n",
            "  (Left)\n",
            "SFFF\n",
            "FHFH\n",
            "\u001b[41mF\u001b[0mFFH\n",
            "HFFG\n",
            "  (Up)\n",
            "SFFF\n",
            "FHFH\n",
            "\u001b[41mF\u001b[0mFFH\n",
            "HFFG\n",
            "  (Up)\n",
            "SFFF\n",
            "\u001b[41mF\u001b[0mHFH\n",
            "FFFH\n",
            "HFFG\n",
            "  (Left)\n",
            "\u001b[41mS\u001b[0mFFF\n",
            "FHFH\n",
            "FFFH\n",
            "HFFG\n",
            "  (Left)\n",
            "\u001b[41mS\u001b[0mFFF\n",
            "FHFH\n",
            "FFFH\n",
            "HFFG\n",
            "  (Left)\n",
            "SFFF\n",
            "\u001b[41mF\u001b[0mHFH\n",
            "FFFH\n",
            "HFFG\n",
            "  (Left)\n",
            "SFFF\n",
            "FHFH\n",
            "\u001b[41mF\u001b[0mFFH\n",
            "HFFG\n",
            "  (Up)\n",
            "SFFF\n",
            "\u001b[41mF\u001b[0mHFH\n",
            "FFFH\n",
            "HFFG\n",
            "  (Left)\n",
            "SFFF\n",
            "\u001b[41mF\u001b[0mHFH\n",
            "FFFH\n",
            "HFFG\n",
            "  (Left)\n",
            "SFFF\n",
            "\u001b[41mF\u001b[0mHFH\n",
            "FFFH\n",
            "HFFG\n",
            "  (Left)\n",
            "\u001b[41mS\u001b[0mFFF\n",
            "FHFH\n",
            "FFFH\n",
            "HFFG\n",
            "  (Left)\n",
            "SFFF\n",
            "\u001b[41mF\u001b[0mHFH\n",
            "FFFH\n",
            "HFFG\n",
            "  (Left)\n",
            "SFFF\n",
            "FHFH\n",
            "\u001b[41mF\u001b[0mFFH\n",
            "HFFG\n",
            "  (Up)\n",
            "SFFF\n",
            "FHFH\n",
            "\u001b[41mF\u001b[0mFFH\n",
            "HFFG\n",
            "  (Up)\n",
            "SFFF\n",
            "\u001b[41mF\u001b[0mHFH\n",
            "FFFH\n",
            "HFFG\n",
            "  (Left)\n",
            "SFFF\n",
            "\u001b[41mF\u001b[0mHFH\n",
            "FFFH\n",
            "HFFG\n",
            "  (Left)\n",
            "SFFF\n",
            "FHFH\n",
            "\u001b[41mF\u001b[0mFFH\n",
            "HFFG\n",
            "  (Up)\n",
            "SFFF\n",
            "\u001b[41mF\u001b[0mHFH\n",
            "FFFH\n",
            "HFFG\n",
            "  (Left)\n",
            "SFFF\n",
            "FHFH\n",
            "\u001b[41mF\u001b[0mFFH\n",
            "HFFG\n",
            "  (Up)\n",
            "SFFF\n",
            "\u001b[41mF\u001b[0mHFH\n",
            "FFFH\n",
            "HFFG\n",
            "  (Left)\n",
            "SFFF\n",
            "\u001b[41mF\u001b[0mHFH\n",
            "FFFH\n",
            "HFFG\n",
            "  (Left)\n",
            "\u001b[41mS\u001b[0mFFF\n",
            "FHFH\n",
            "FFFH\n",
            "HFFG\n",
            "  (Left)\n",
            "\u001b[41mS\u001b[0mFFF\n",
            "FHFH\n",
            "FFFH\n",
            "HFFG\n",
            "  (Left)\n",
            "SFFF\n",
            "\u001b[41mF\u001b[0mHFH\n",
            "FFFH\n",
            "HFFG\n",
            "  (Left)\n",
            "SFFF\n",
            "\u001b[41mF\u001b[0mHFH\n",
            "FFFH\n",
            "HFFG\n",
            "  (Left)\n",
            "\u001b[41mS\u001b[0mFFF\n",
            "FHFH\n",
            "FFFH\n",
            "HFFG\n",
            "  (Left)\n",
            "\u001b[41mS\u001b[0mFFF\n",
            "FHFH\n",
            "FFFH\n",
            "HFFG\n",
            "  (Left)\n",
            "\u001b[41mS\u001b[0mFFF\n",
            "FHFH\n",
            "FFFH\n",
            "HFFG\n",
            "  (Left)\n",
            "\u001b[41mS\u001b[0mFFF\n",
            "FHFH\n",
            "FFFH\n",
            "HFFG\n",
            "  (Left)\n",
            "\u001b[41mS\u001b[0mFFF\n",
            "FHFH\n",
            "FFFH\n",
            "HFFG\n",
            "  (Left)\n",
            "SFFF\n",
            "\u001b[41mF\u001b[0mHFH\n",
            "FFFH\n",
            "HFFG\n",
            "  (Left)\n",
            "SFFF\n",
            "\u001b[41mF\u001b[0mHFH\n",
            "FFFH\n",
            "HFFG\n",
            "  (Left)\n",
            "SFFF\n",
            "\u001b[41mF\u001b[0mHFH\n",
            "FFFH\n",
            "HFFG\n",
            "  (Left)\n",
            "SFFF\n",
            "FHFH\n",
            "\u001b[41mF\u001b[0mFFH\n",
            "HFFG\n",
            "  (Up)\n",
            "SFFF\n",
            "\u001b[41mF\u001b[0mHFH\n",
            "FFFH\n",
            "HFFG\n",
            "  (Left)\n",
            "SFFF\n",
            "FHFH\n",
            "\u001b[41mF\u001b[0mFFH\n",
            "HFFG\n",
            "  (Up)\n",
            "SFFF\n",
            "\u001b[41mF\u001b[0mHFH\n",
            "FFFH\n",
            "HFFG\n",
            "  (Left)\n",
            "\u001b[41mS\u001b[0mFFF\n",
            "FHFH\n",
            "FFFH\n",
            "HFFG\n",
            "  (Left)\n",
            "SFFF\n",
            "\u001b[41mF\u001b[0mHFH\n",
            "FFFH\n",
            "HFFG\n",
            "  (Left)\n",
            "SFFF\n",
            "FHFH\n",
            "\u001b[41mF\u001b[0mFFH\n",
            "HFFG\n",
            "  (Up)\n",
            "SFFF\n",
            "\u001b[41mF\u001b[0mHFH\n",
            "FFFH\n",
            "HFFG\n",
            "  (Left)\n",
            "\u001b[41mS\u001b[0mFFF\n",
            "FHFH\n",
            "FFFH\n",
            "HFFG\n",
            "  (Left)\n",
            "\u001b[41mS\u001b[0mFFF\n",
            "FHFH\n",
            "FFFH\n",
            "HFFG\n",
            "  (Left)\n",
            "\u001b[41mS\u001b[0mFFF\n",
            "FHFH\n",
            "FFFH\n",
            "HFFG\n",
            "  (Left)\n",
            "SFFF\n",
            "\u001b[41mF\u001b[0mHFH\n",
            "FFFH\n",
            "HFFG\n",
            "  (Left)\n",
            "SFFF\n",
            "\u001b[41mF\u001b[0mHFH\n",
            "FFFH\n",
            "HFFG\n",
            "  (Left)\n",
            "SFFF\n",
            "FHFH\n",
            "\u001b[41mF\u001b[0mFFH\n",
            "HFFG\n",
            "  (Up)\n",
            "SFFF\n",
            "FHFH\n",
            "\u001b[41mF\u001b[0mFFH\n",
            "HFFG\n",
            "  (Up)\n",
            "SFFF\n",
            "FHFH\n",
            "\u001b[41mF\u001b[0mFFH\n",
            "HFFG\n",
            "  (Up)\n",
            "SFFF\n",
            "FHFH\n",
            "F\u001b[41mF\u001b[0mFH\n",
            "HFFG\n",
            "  (Down)\n",
            "SFFF\n",
            "FHFH\n",
            "FFFH\n",
            "H\u001b[41mF\u001b[0mFG\n",
            "  (Right)\n",
            "SFFF\n",
            "FHFH\n",
            "FFFH\n",
            "HF\u001b[41mF\u001b[0mG\n"
          ],
          "name": "stdout"
        }
      ]
    }
  ]
}